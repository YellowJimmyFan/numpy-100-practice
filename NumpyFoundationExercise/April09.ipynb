{
 "cells": [
  {
   "cell_type": "code",
   "execution_count": 2,
   "id": "89687944-d5d0-4e75-a1e9-36bfa0c2acd1",
   "metadata": {},
   "outputs": [],
   "source": [
    "import numpy as np"
   ]
  },
  {
   "cell_type": "code",
   "execution_count": 16,
   "id": "c0f29549-3716-4086-b1c7-0a24ccb1dfaa",
   "metadata": {},
   "outputs": [
    {
     "data": {
      "text/plain": [
       "array([[1, 6],\n",
       "       [2, 5],\n",
       "       [3, 4]])"
      ]
     },
     "execution_count": 16,
     "metadata": {},
     "output_type": "execute_result"
    }
   ],
   "source": [
    "lst1 = [[1], [2], [3]]\n",
    "lst2 = [[6], [5], [4]]\n",
    "a = np.array(lst1)\n",
    "b = np.array(lst2)\n",
    "c = np.concatenate((a, b), axis = 1)\n",
    "c"
   ]
  },
  {
   "cell_type": "code",
   "execution_count": 34,
   "id": "175b16f0-bf71-442f-a760-6880c14a78f5",
   "metadata": {},
   "outputs": [
    {
     "name": "stdout",
     "output_type": "stream",
     "text": [
      "3\n"
     ]
    },
    {
     "data": {
      "text/plain": [
       "array([[ 1],\n",
       "       [ 2],\n",
       "       [ 3],\n",
       "       [ 4],\n",
       "       [ 5],\n",
       "       [ 6],\n",
       "       [ 7],\n",
       "       [ 8],\n",
       "       [12],\n",
       "       [11],\n",
       "       [10],\n",
       "       [ 9]])"
      ]
     },
     "execution_count": 34,
     "metadata": {},
     "output_type": "execute_result"
    }
   ],
   "source": [
    "l1 = [[1], [2], [3], [4]]\n",
    "a1 = np.array(l1)\n",
    "l2 = [[5], [6], [7], [8]]\n",
    "a2 = np.array(l2)\n",
    "l3 = [[9], [10], [11], [12]]\n",
    "a3 = np.array(l3)\n",
    "cc1 = [l1, l2, l3]\n",
    "aa1 = np.array(cc1)\n",
    "aa2 = np.concatenate((a1, a2, a3[::-1]), axis = 0)\n",
    "print(aa1.ndim)\n",
    "aa2"
   ]
  },
  {
   "cell_type": "code",
   "execution_count": 35,
   "id": "a5a5f447-cda6-4a33-9639-4a22407bf1e9",
   "metadata": {},
   "outputs": [
    {
     "data": {
      "text/plain": [
       "3"
      ]
     },
     "execution_count": 35,
     "metadata": {},
     "output_type": "execute_result"
    }
   ],
   "source": [
    "array_example = np.array([[[0, 1, 2, 3],\n",
    "                           [4, 5, 6, 7]],\n",
    "                          [[0, 1, 2, 3],\n",
    "                           [4, 5, 6, 7]],\n",
    "                          [[0 ,1 ,2, 3],\n",
    "                           [4, 5, 6, 7]]])\n",
    "array_example.ndim"
   ]
  },
  {
   "cell_type": "code",
   "execution_count": 76,
   "id": "2b85d2e2-1624-4733-b98d-30a6135893eb",
   "metadata": {},
   "outputs": [
    {
     "name": "stdout",
     "output_type": "stream",
     "text": [
      "[0 1 2 3 4 5]\n",
      "[[[[0 1]]]\n",
      "\n",
      "\n",
      " [[[2 3]]]\n",
      "\n",
      "\n",
      " [[[4 5]]]]\n"
     ]
    }
   ],
   "source": [
    "re1 = np.arange(6)\n",
    "print(re1)\n",
    "re2 = re1.reshape(3, 1, 1, -1)\n",
    "print(re2)"
   ]
  },
  {
   "cell_type": "code",
   "execution_count": 66,
   "id": "e2041cd3-ff9d-479f-8ccc-a4e99efb6aac",
   "metadata": {},
   "outputs": [
    {
     "name": "stdout",
     "output_type": "stream",
     "text": [
      "[[1]\n",
      " [2]\n",
      " [3]\n",
      " [4]\n",
      " [5]\n",
      " [6]]\n",
      "[[[1]]\n",
      "\n",
      " [[2]]\n",
      "\n",
      " [[3]]\n",
      "\n",
      " [[4]]\n",
      "\n",
      " [[5]]\n",
      "\n",
      " [[6]]]\n",
      "[[[[1]]]\n",
      "\n",
      "\n",
      " [[[2]]]\n",
      "\n",
      "\n",
      " [[[3]]]\n",
      "\n",
      "\n",
      " [[[4]]]\n",
      "\n",
      "\n",
      " [[[5]]]\n",
      "\n",
      "\n",
      " [[[6]]]]\n",
      "[[[1]\n",
      "  [2]\n",
      "  [3]\n",
      "  [4]\n",
      "  [5]\n",
      "  [6]]]\n",
      "[1 2 3 4 5 6]\n"
     ]
    }
   ],
   "source": [
    "a = np.array([[1], [2], [3], [4], [5], [6]])\n",
    "a2 = a[: , :, np.newaxis]\n",
    "a3 = a[: , np.newaxis, np.newaxis]\n",
    "a4 = a[np.newaxis, :, :]\n",
    "print(a)\n",
    "print(a2)\n",
    "print(a3)\n",
    "print(a4)"
   ]
  },
  {
   "cell_type": "code",
   "execution_count": 71,
   "id": "c0b5fc2b-e803-4e3e-8d71-48fd008399ba",
   "metadata": {},
   "outputs": [
    {
     "name": "stdout",
     "output_type": "stream",
     "text": [
      "[1 2 3 4 5 6]\n",
      "[[1 2 3 4 5 6]]\n",
      "[[1]\n",
      " [2]\n",
      " [3]\n",
      " [4]\n",
      " [5]\n",
      " [6]]\n"
     ]
    }
   ],
   "source": [
    "a = np.array([1, 2, 3, 4, 5, 6])\n",
    "a2 = a[np.newaxis, :]\n",
    "a3 = a[ : , np.newaxis]\n",
    "print(a)\n",
    "print(a2)\n",
    "print(a3)"
   ]
  },
  {
   "cell_type": "code",
   "execution_count": 84,
   "id": "b7eb1b21-dc8e-4f0d-9de4-230193889725",
   "metadata": {},
   "outputs": [
    {
     "name": "stdout",
     "output_type": "stream",
     "text": [
      "[[[1]]\n",
      "\n",
      " [[2]]\n",
      "\n",
      " [[3]]\n",
      "\n",
      " [[4]]\n",
      "\n",
      " [[5]]\n",
      "\n",
      " [[6]]]\n"
     ]
    }
   ],
   "source": [
    "b = np.expand_dims(a3, axis=(2))\n",
    "print(b)"
   ]
  },
  {
   "cell_type": "code",
   "execution_count": 97,
   "id": "3133e607-14af-4773-bb19-f9d89b67a655",
   "metadata": {},
   "outputs": [
    {
     "name": "stdout",
     "output_type": "stream",
     "text": [
      "[ 1  2  3  4  5  6  7  8  9 10 11]\n",
      "[[False False False False]\n",
      " [ True  True  True  True]\n",
      " [ True  True  True  True]]\n",
      "[ 5  6  7  8  9 10 11 12]\n",
      "[ 5  6  7  8  9 10 11 12]\n"
     ]
    }
   ],
   "source": [
    "a = np.array([[1 , 2, 3, 4], [5, 6, 7, 8], [9, 10, 11, 12]])\n",
    "print(a[a < 12])\n",
    "five_up = (a >= 5)\n",
    "print(five_up)\n",
    "print(a[five_up])\n",
    "print(a[\n",
    "        np.array([[False, False, False, False],\n",
    "                  [ True,  True,  True,  True],\n",
    "                  [ True,  True,  True,  True]])\n",
    "       ])"
   ]
  },
  {
   "cell_type": "code",
   "execution_count": 99,
   "id": "149b849b-603b-4660-8cfc-c265aeb9d8d2",
   "metadata": {},
   "outputs": [
    {
     "name": "stdout",
     "output_type": "stream",
     "text": [
      "(array([0, 0, 0, 0, 1]), array([0, 1, 2, 3, 0]))\n"
     ]
    }
   ],
   "source": [
    "a = np.array([[1, 2, 3, 4], [5, 6, 7, 8], [9, 10, 11, 12]])\n",
    "b = np.nonzero(a < 6)\n",
    "print(b)"
   ]
  },
  {
   "cell_type": "code",
   "execution_count": 108,
   "id": "bf215830-0382-45bb-adcc-176a45f25307",
   "metadata": {},
   "outputs": [
    {
     "name": "stdout",
     "output_type": "stream",
     "text": [
      "(np.int64(0), np.int64(0))\n",
      "(np.int64(0), np.int64(1))\n",
      "(np.int64(0), np.int64(2))\n",
      "(np.int64(0), np.int64(3))\n",
      "(np.int64(1), np.int64(0))\n",
      "0 0\n",
      "0 1\n",
      "0 2\n",
      "0 3\n",
      "1 0\n"
     ]
    }
   ],
   "source": [
    "for ind1, ind2 in zip(b[0], b[1]):\n",
    "    print((ind1, ind2))\n",
    "for ind1, ind2 in zip(b[0], b[1]):\n",
    "    print(ind1, ind2)"
   ]
  },
  {
   "cell_type": "code",
   "execution_count": 109,
   "id": "b80061e4-8bbe-4c26-9964-1516e3c47476",
   "metadata": {},
   "outputs": [
    {
     "data": {
      "text/plain": [
       "array([], dtype=int64)"
      ]
     },
     "execution_count": 109,
     "metadata": {},
     "output_type": "execute_result"
    }
   ],
   "source": [
    "not_there = np.nonzero(a == 42)\n",
    "a[not_there]"
   ]
  },
  {
   "cell_type": "code",
   "execution_count": 104,
   "id": "1bb660ed-d173-447f-a2ce-d1a06958037c",
   "metadata": {},
   "outputs": [
    {
     "name": "stdout",
     "output_type": "stream",
     "text": [
      "Alice is 25 years old.\n",
      "Bob is 30 years old.\n",
      "Charlie is 35 years old.\n"
     ]
    }
   ],
   "source": [
    "names = ['Alice', 'Bob', 'Charlie']\n",
    "ages = [25, 30, 35]\n",
    "\n",
    "# 使用 zip() 并行迭代两个列表\n",
    "for name, age in zip(names, ages):\n",
    "    print(f\"{name} is {age} years old.\")"
   ]
  },
  {
   "cell_type": "code",
   "execution_count": 130,
   "id": "700badfa-0ace-4403-ae7b-7e1506b3e561",
   "metadata": {},
   "outputs": [
    {
     "name": "stdout",
     "output_type": "stream",
     "text": [
      "[[1 1]\n",
      " [2 2]\n",
      " [3 3]\n",
      " [4 4]]\n",
      "[[1 1 3 3]\n",
      " [2 2 4 4]]\n",
      "[[1 1]\n",
      " [2 2]\n",
      " [3 3]\n",
      " [4 4]]\n",
      "[[ 1  2  3  4  5  6  7  8  9 10 11 12]\n",
      " [13 14 15 16 17 18 19 20 21 22 23 24]]\n"
     ]
    },
    {
     "data": {
      "text/plain": [
       "array([[1],\n",
       "       [2]])"
      ]
     },
     "execution_count": 130,
     "metadata": {},
     "output_type": "execute_result"
    }
   ],
   "source": [
    "a1 = np.array([[1, 1],\n",
    "               [2, 2]])\n",
    "a2 = np.array([[3, 3],\n",
    "               [4, 4]])\n",
    "t1 = np.concatenate((a1, a2), axis = 0)\n",
    "t2 = np.concatenate((a1, a2), axis = 1)\n",
    "print(t1)\n",
    "print(t2)\n",
    "stack1 = np.vstack((a1, a2))\n",
    "print(stack1)\n",
    "stack2 = x = np.arange(1, 25).reshape(2, 12)\n",
    "print(stack2)\n",
    "t1[ 0:2 , 0:1]"
   ]
  },
  {
   "cell_type": "code",
   "execution_count": 128,
   "id": "26191a01-674b-4ffa-8654-2950da1cb413",
   "metadata": {},
   "outputs": [
    {
     "name": "stdout",
     "output_type": "stream",
     "text": [
      "[[[1]\n",
      "  [1]]\n",
      "\n",
      " [[2]\n",
      "  [2]]]\n",
      "[[[3]\n",
      "  [3]]\n",
      "\n",
      " [[4]\n",
      "  [4]]]\n",
      "[[[1]\n",
      "  [1]]\n",
      "\n",
      " [[2]\n",
      "  [2]]\n",
      "\n",
      " [[3]\n",
      "  [3]]\n",
      "\n",
      " [[4]\n",
      "  [4]]]\n",
      "[[[1]\n",
      "  [1]\n",
      "  [3]\n",
      "  [3]]\n",
      "\n",
      " [[2]\n",
      "  [2]\n",
      "  [4]\n",
      "  [4]]]\n"
     ]
    }
   ],
   "source": [
    "a1 = np.array([[[1], [1]],\n",
    "               [[2], [2]]])\n",
    "a2 = np.array([[[3], [3]],\n",
    "               [[4], [4]]])\n",
    "st1 = np.vstack((a1, a2))\n",
    "st2 = np.hstack((a1, a2))\n",
    "print(a1)\n",
    "print(a2)\n",
    "print(st1)\n",
    "print(st2)"
   ]
  },
  {
   "cell_type": "code",
   "execution_count": 143,
   "id": "4c00c74c-4f82-43ac-96c0-0e18fbc491c6",
   "metadata": {},
   "outputs": [
    {
     "name": "stdout",
     "output_type": "stream",
     "text": [
      "[[[ 1  2  3  4]\n",
      "  [ 5  6  7  8]]\n",
      "\n",
      " [[ 9 10 11 12]\n",
      "  [13 14 15 16]]\n",
      "\n",
      " [[17 18 19 20]\n",
      "  [21 22 23 24]]]\n"
     ]
    },
    {
     "data": {
      "text/plain": [
       "[array([], shape=(3, 0, 4), dtype=int64),\n",
       " array([[[ 1,  2,  3,  4]],\n",
       " \n",
       "        [[ 9, 10, 11, 12]],\n",
       " \n",
       "        [[17, 18, 19, 20]]]),\n",
       " array([[[ 5,  6,  7,  8]],\n",
       " \n",
       "        [[13, 14, 15, 16]],\n",
       " \n",
       "        [[21, 22, 23, 24]]])]"
      ]
     },
     "execution_count": 143,
     "metadata": {},
     "output_type": "execute_result"
    }
   ],
   "source": [
    "x = np.arange(1, 25).reshape(3, 2, 4)\n",
    "print(x)\n",
    "np.hsplit(x, (0, 1))\n",
    "#不理解"
   ]
  }
 ],
 "metadata": {
  "kernelspec": {
   "display_name": "Python 3 (ipykernel)",
   "language": "python",
   "name": "python3"
  },
  "language_info": {
   "codemirror_mode": {
    "name": "ipython",
    "version": 3
   },
   "file_extension": ".py",
   "mimetype": "text/x-python",
   "name": "python",
   "nbconvert_exporter": "python",
   "pygments_lexer": "ipython3",
   "version": "3.11.9"
  }
 },
 "nbformat": 4,
 "nbformat_minor": 5
}
